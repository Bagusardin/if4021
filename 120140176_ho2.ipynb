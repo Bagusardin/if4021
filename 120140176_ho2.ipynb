{
 "cells": [
  {
   "cell_type": "markdown",
   "metadata": {},
   "source": [
    "# HANDS ON 2\n",
    "\n",
    "Bagus Ardin Saputra (120140176)\n"
   ]
  },
  {
   "cell_type": "markdown",
   "metadata": {},
   "source": [
    "#### Menentukan Jenis Soal Yang Akan Di Kerjakan\n",
    "\n",
    "Nim Genap Kerjakan Fading Exponential\n",
    "Nim Ganjil Kerjakan Logarithmic Scale Fading\n"
   ]
  },
  {
   "cell_type": "code",
   "execution_count": 8,
   "metadata": {},
   "outputs": [
    {
     "name": "stdout",
     "output_type": "stream",
     "text": [
      "Genap\n"
     ]
    }
   ],
   "source": [
    "nim = 120140176\n",
    "if int(str(nim)[8])%2 == 0:\n",
    "    print('Genap')\n",
    "else:\n",
    "    print('Ganjil')"
   ]
  },
  {
   "cell_type": "markdown",
   "metadata": {},
   "source": [
    "Siapa sangka, ternyata saya nim genap\n",
    "<br>\n",
    "<img src=\"./assets/siapa sangka.jpg\" alt=\"ini_watermark_(120140176).jpeg\" width=\"320\" >\n"
   ]
  },
  {
   "cell_type": "markdown",
   "metadata": {},
   "source": [
    "### Fading Exponential\n",
    "\n",
    "Karena nim saya genap, sesuai dengan ketentuan saya akan mencoba teknik fading exponential. Khususnya pada bagian awal dan akhir audio percobaan.\n"
   ]
  },
  {
   "cell_type": "code",
   "execution_count": 9,
   "metadata": {},
   "outputs": [],
   "source": [
    "import os\n",
    "import wave\n",
    "import numpy as np\n",
    "import matplotlib.pyplot as plt"
   ]
  },
  {
   "cell_type": "code",
   "execution_count": 10,
   "metadata": {},
   "outputs": [
    {
     "name": "stdout",
     "output_type": "stream",
     "text": [
      "c:\\Users\\HP\\multimedia\\if4021-handson\\data_ho_2\\ho_2.wav\n"
     ]
    }
   ],
   "source": [
    "parent_path = 'data_ho_2'\n",
    "datasets = []\n",
    "for i in os.listdir(parent_path):\n",
    "    datasets.append(\n",
    "        os.path.join(os.getcwd(), parent_path, i)\n",
    "    )\n",
    "\n",
    "for i in datasets:\n",
    "    if not os.path.exists(i):\n",
    "        print('Data tidak ditemukan')\n",
    "\n",
    "for i in datasets:\n",
    "    print(i, end=\"\\n\")"
   ]
  },
  {
   "cell_type": "markdown",
   "metadata": {},
   "source": [
    "Langkah pertama sebelum melakukan percobaan, kita harus memuat datasets yang diperlukan. Pada tahap ini, kita menggunakan library os untuk mendapatkan daftar [path](https://docs.oracle.com/javase/tutorial/essential/io/path.html) datasets yang diperlukan.\n"
   ]
  },
  {
   "cell_type": "code",
   "execution_count": 11,
   "metadata": {},
   "outputs": [],
   "source": [
    "file_index = 0 # Alih alih pakai semua datasets seperti dalam percobaan handson 1, sekarang kita ambil satu aja. Index path nya kita define di sini aja biar ga typo"
   ]
  },
  {
   "cell_type": "code",
   "execution_count": 12,
   "metadata": {},
   "outputs": [
    {
     "name": "stdout",
     "output_type": "stream",
     "text": [
      "2\n"
     ]
    }
   ],
   "source": [
    "\n",
    "with wave.open(datasets[file_index], 'r') as wav_file:\n",
    "    nchannels = wav_file.getnchannels()\n",
    "\n",
    "print(nchannels)"
   ]
  },
  {
   "cell_type": "markdown",
   "metadata": {},
   "source": [
    "Kalian nampak tu, channelnya masih 2. Ada 2 cara yang bisa kita lakukan, yaitu pisah channel dan ambil salah satunya atau kita gabungin. Tapi karena sebelumnya kita udah pernah misah channel audio, sekarang saya pengen eksperimen buat nyatuin channelnya, biar audionya jadi mono.\n"
   ]
  },
  {
   "cell_type": "code",
   "execution_count": 13,
   "metadata": {},
   "outputs": [],
   "source": [
    "# Kita load lagi audionya\n",
    "\n",
    "output_path = os.path.join('sounds_mono', os.path.basename(datasets[file_index])) # Bikin folder output baru\n",
    "with wave.open(datasets[file_index], 'rb') as wav_file:\n",
    "    params = wav_file.getparams()\n",
    "    audio_data = np.frombuffer(wav_file.readframes(params.nframes), dtype=np.int16)\n",
    "\n",
    "    lc = audio_data[0::2] # channel kiri \n",
    "    rc = audio_data[1::2] # channel kanan\n",
    "\n",
    "    audio_mono = ((lc+rc)//2).astype(np.int16)\n",
    "\n",
    "    with wave.open(output_path, 'wb') as output_sound:\n",
    "        output_sound.setnchannels(1)\n",
    "        output_sound.setsampwidth(params.sampwidth)\n",
    "        output_sound.setframerate(params.framerate)\n",
    "        output_sound.writeframes(audio_mono.tobytes())"
   ]
  },
  {
   "cell_type": "markdown",
   "metadata": {},
   "source": [
    "Kita udah bikin file audio dengan satu channel. Kalo ga percaya, sekarang kita coba test buka file yang baru\n"
   ]
  },
  {
   "cell_type": "code",
   "execution_count": 14,
   "metadata": {},
   "outputs": [
    {
     "name": "stdout",
     "output_type": "stream",
     "text": [
      "1\n"
     ]
    }
   ],
   "source": [
    "with wave.open(output_path, 'r') as mono_wav:\n",
    "    audio = mono_wav.getparams()\n",
    "\n",
    "print(audio.nchannels)"
   ]
  },
  {
   "cell_type": "markdown",
   "metadata": {},
   "source": [
    "Sekarang channelnya jadi satu, yang artinya sound kita udah jadi mono.\n"
   ]
  }
 ],
 "metadata": {
  "kernelspec": {
   "display_name": "env",
   "language": "python",
   "name": "python3"
  },
  "language_info": {
   "codemirror_mode": {
    "name": "ipython",
    "version": 3
   },
   "file_extension": ".py",
   "mimetype": "text/x-python",
   "name": "python",
   "nbconvert_exporter": "python",
   "pygments_lexer": "ipython3",
   "version": "3.12.6"
  }
 },
 "nbformat": 4,
 "nbformat_minor": 2
}
