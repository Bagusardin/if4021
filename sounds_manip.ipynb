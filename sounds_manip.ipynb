{
 "cells": [
  {
   "cell_type": "code",
   "execution_count": 41,
   "metadata": {},
   "outputs": [],
   "source": [
    "import os\n",
    "import wave\n",
    "import numpy as np"
   ]
  },
  {
   "cell_type": "code",
   "execution_count": 42,
   "metadata": {},
   "outputs": [],
   "source": [
    "datasets = []\n",
    "for i in os.listdir('data_ho_1'):\n",
    "    datasets.append(f'data_ho_1/{i}')"
   ]
  },
  {
   "cell_type": "code",
   "execution_count": 43,
   "metadata": {},
   "outputs": [
    {
     "name": "stdout",
     "output_type": "stream",
     "text": [
      "data_ho_1/ho_1_type_1.wav\n",
      "data_ho_1/ho_1_type_2.wav\n",
      "data_ho_1/ho_1_type_3.wav\n",
      "data_ho_1/ho_1_type_4.wav\n",
      "data_ho_1/ho_1_type_5.wav\n"
     ]
    }
   ],
   "source": [
    "for i in datasets:\n",
    "    print(i)"
   ]
  },
  {
   "cell_type": "code",
   "execution_count": 44,
   "metadata": {},
   "outputs": [
    {
     "name": "stdout",
     "output_type": "stream",
     "text": [
      "File data_ho_1/ho_1_type_1.wav telah diproses dan disimpan sebagai output_data\\ho_1_type_1.wav\n",
      "File data_ho_1/ho_1_type_2.wav telah diproses dan disimpan sebagai output_data\\ho_1_type_2.wav\n",
      "File data_ho_1/ho_1_type_3.wav telah diproses dan disimpan sebagai output_data\\ho_1_type_3.wav\n",
      "File data_ho_1/ho_1_type_4.wav telah diproses dan disimpan sebagai output_data\\ho_1_type_4.wav\n",
      "File data_ho_1/ho_1_type_5.wav telah diproses dan disimpan sebagai output_data\\ho_1_type_5.wav\n"
     ]
    }
   ],
   "source": [
    "frequency_factor = .5\n",
    "noise_reduction_factor = .1\n",
    "\n",
    "# Folder output\n",
    "output_folder = 'output_data'\n",
    "\n",
    "# Membuat folder output jika belum ada\n",
    "if not os.path.exists(output_folder):\n",
    "    os.makedirs(output_folder)\n",
    "\n",
    "for file_path in datasets:\n",
    "    with wave.open(file_path, 'rb') as wav_in:\n",
    "        params = wav_in.getparams()\n",
    "        frames = wav_in.readframes(params.nframes)\n",
    "        audio = np.frombuffer(frames, dtype=np.int16)\n",
    "\n",
    "    # Menurunkan frekuensi\n",
    "    new_audio_freq = np.interp(np.arange(0, len(audio), frequency_factor), np.arange(0, len(audio)), audio).astype(np.int16)\n",
    "\n",
    "    # Menurunkan tingkat kebisingan\n",
    "    new_audio = (new_audio_freq * noise_reduction_factor).astype(np.int16)\n",
    "\n",
    "    # Menentukan path file output\n",
    "    output_path = os.path.join(output_folder, os.path.basename(file_path))\n",
    "\n",
    "    # Membuat folder output jika belum ada\n",
    "    output_dir = os.path.dirname(output_path)\n",
    "    if not os.path.exists(output_dir):\n",
    "        os.makedirs(output_dir)\n",
    "\n",
    "    # Menulis file WAV baru dengan frekuensi dan tingkat kebisingan yang diturunkan\n",
    "    with wave.open(output_path, 'wb') as wav_out:\n",
    "        wav_out.setparams(params)\n",
    "        wav_out.writeframes(new_audio.tobytes())\n",
    "\n",
    "    print(f'File {file_path} telah diproses dan disimpan sebagai {output_path}')"
   ]
  },
  {
   "cell_type": "markdown",
   "metadata": {},
   "source": [
    "# Trim Audio"
   ]
  },
  {
   "cell_type": "markdown",
   "metadata": {},
   "source": []
  },
  {
   "cell_type": "code",
   "execution_count": 1,
   "metadata": {},
   "outputs": [],
   "source": [
    "import matplotlib.pyplot as plt\n",
    "import numpy as np\n",
    "import wave\n",
    "import os"
   ]
  },
  {
   "cell_type": "code",
   "execution_count": 5,
   "metadata": {},
   "outputs": [
    {
     "name": "stdout",
     "output_type": "stream",
     "text": [
      "(875520, 2)\n"
     ]
    }
   ],
   "source": [
    "path = 'data_ho_2/ho2_new.wav'\n",
    "\n",
    "with wave.open(path, 'r') as wav_in:\n",
    "    frames = wav_in.readframes(-1)\n",
    "    data = np.frombuffer(frames, dtype=np.int16)\n",
    "    samoling = wav_in.getframerate()\n",
    "    channels = wav_in.getnchannels()\n",
    "\n",
    "data = data.reshape(-1, channels)\n",
    "print(data.shape)"
   ]
  },
  {
   "cell_type": "code",
   "execution_count": null,
   "metadata": {},
   "outputs": [],
   "source": []
  }
 ],
 "metadata": {
  "kernelspec": {
   "display_name": "env",
   "language": "python",
   "name": "python3"
  },
  "language_info": {
   "codemirror_mode": {
    "name": "ipython",
    "version": 3
   },
   "file_extension": ".py",
   "mimetype": "text/x-python",
   "name": "python",
   "nbconvert_exporter": "python",
   "pygments_lexer": "ipython3",
   "version": "3.12.6"
  }
 },
 "nbformat": 4,
 "nbformat_minor": 2
}
